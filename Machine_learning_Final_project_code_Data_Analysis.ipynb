{
  "nbformat": 4,
  "nbformat_minor": 0,
  "metadata": {
    "colab": {
      "name": "Machine learning Final project code- Data Analysis",
      "provenance": []
    },
    "kernelspec": {
      "name": "python3",
      "display_name": "Python 3"
    },
    "language_info": {
      "name": "python"
    }
  },
  "cells": [
    {
      "cell_type": "code",
      "execution_count": null,
      "metadata": {
        "id": "CO2YfoJ_KxhZ"
      },
      "outputs": [],
      "source": [
        "from google.colab import files\n",
        "import pandas as pd\n",
        "import numpy as np\n",
        "import seaborn as sns\n",
        "from sklearn import preprocessing\n",
        "from sklearn.model_selection import train_test_split\n",
        "import sklearn\n",
        "from sklearn import linear_model\n",
        "from sklearn.tree import DecisionTreeClassifier\n",
        "from yellowbrick.regressor import residuals_plot\n",
        "from sklearn import tree\n",
        "import matplotlib.pyplot as plt\n",
        "from sklearn.tree import export_text\n",
        "files.upload()"
      ]
    },
    {
      "cell_type": "code",
      "source": [
        "from yellowbrick.regressor.residuals import ResidualsPlot\n",
        "from yellowbrick.base import Visualizer\n",
        "df = pd.read_csv(\"healthcare-dataset-stroke-data.csv\")\n",
        "sns.set(rc={'figure.figsize':(20,9)})\n",
        "df = df.drop(columns='id')\n",
        "df = df.loc[df[\"gender\"] != \"Other\"]\n",
        "bmiAvg = df[\"bmi\"].mean()\n",
        "df[\"bmi\"] = df[\"bmi\"].fillna(round(bmiAvg,1))\n",
        "\n",
        "\n",
        "\n",
        "encodedDf = df\n",
        "nonStrokeDf = df.loc[df[\"stroke\"] == 0]\n",
        "strokeDf = df.loc[df[\"stroke\"] == 1];\n",
        "nonStrokeDfCd = nonStrokeDf[:200]\n",
        "\n",
        "frames = [nonStrokeDfCd,strokeDf]\n",
        "le = preprocessing.LabelEncoder()\n",
        "df1 = pd.concat(frames)\n",
        "\n",
        "temp = pd.get_dummies(encodedDf[\"gender\"])\n",
        "encodedDf = pd.concat([encodedDf,temp],axis=1)\n",
        "encodedDf = encodedDf.drop(columns = \"gender\")\n",
        "\n",
        "#Show up as the dummy columns Yes, No\n",
        "temp = pd.get_dummies(encodedDf[\"ever_married\"])\n",
        "encodedDf = pd.concat([encodedDf,temp],axis=1)\n",
        "encodedDf = encodedDf.drop(columns = \"ever_married\")\n",
        "\n",
        "temp = pd.get_dummies(encodedDf[\"work_type\"])\n",
        "encodedDf = pd.concat([encodedDf,temp],axis=1)\n",
        "encodedDf = encodedDf.drop(columns = \"work_type\")\n",
        "\n",
        "temp = pd.get_dummies(encodedDf[\"Residence_type\"])\n",
        "encodedDf = pd.concat([encodedDf,temp],axis=1)\n",
        "encodedDf = encodedDf.drop(columns = \"Residence_type\")\n",
        "\n",
        "temp = pd.get_dummies(encodedDf[\"smoking_status\"])\n",
        "encodedDf = pd.concat([encodedDf,temp],axis=1)\n",
        "encodedDf = encodedDf.drop(columns = \"smoking_status\")\n",
        "\n",
        "encodedDf[\"mean_bmi\"] = encodedDf[\"bmi\"].mean()\n",
        "encodedDf[\"mean_age\"] = encodedDf[\"age\"].mean()\n",
        "encodedDf[\"mean_glucose_level\"] = encodedDf[\"avg_glucose_level\"].mean()\n",
        "\n",
        "y_data = encodedDf.stroke\n",
        "x_data = encodedDf.drop(columns = \"stroke\")\n",
        "\n",
        "labels = [\"non-Stroke\",\"Stroke\"]\n",
        "feature_names = x_data.columns\n",
        "\n",
        "scaler = preprocessing.StandardScaler()\n",
        "x_data = scaler.fit_transform(x_data)\n",
        "\n",
        "x_train, x_test, y_train, y_test = train_test_split(x_data,y_data,test_size=.10, random_state=42)\n",
        "\n",
        "reg = linear_model.LinearRegression()\n",
        "reg = reg.fit(x_train, y_train)\n",
        "print(reg.score(x_train,y_train))\n",
        "\n",
        "clf = DecisionTreeClassifier(max_depth =3, random_state = 42)\n",
        "clf = clf.fit(x_train,y_train)\n",
        "\n",
        "print(clf.score(x_train,y_train))\n",
        "\n",
        "visualizers = ResidualsPlot(reg)\n",
        "visualizers.score(x_test,y_test)\n",
        "visualizers.show()"
      ],
      "metadata": {
        "id": "dwy81rm1LUXZ"
      },
      "execution_count": null,
      "outputs": []
    },
    {
      "cell_type": "code",
      "source": [
        "\n",
        "a = tree.plot_tree(clf, feature_names = feature_names,class_names = labels, rounded = True, filled = True, fontsize=14)\n",
        "\n",
        "plt.show()\n",
        "\n",
        "tree_rules = export_text(clf,feature_names = list(feature_names))\n",
        "\n",
        "print(tree_rules)"
      ],
      "metadata": {
        "id": "t-tm9E0sKDXT"
      },
      "execution_count": null,
      "outputs": []
    },
    {
      "cell_type": "code",
      "source": [
        "\n",
        "def plotRegScores(dataframe):\n",
        "  testValues = [.10,.20,.30,.40,.50,.60,.70,.80,.90]\n",
        "  regScores = []\n",
        "  for i in testValues:\n",
        "    y_data = dataframe.stroke\n",
        "    x_data = dataframe.drop(columns = \"stroke\")\n",
        "\n",
        "    scaler = preprocessing.StandardScaler()\n",
        "    x_data = scaler.fit_transform(x_data)\n",
        "\n",
        "    x_train, x_test, y_train, y_test = train_test_split(x_data,y_data,test_size= i, random_state=42)\n",
        "\n",
        "    reg = linear_model.LinearRegression()\n",
        "    reg = reg.fit(x_train, y_train)\n",
        "    regScores.append(reg.score(x_train,y_train))\n",
        "\n",
        "  print(sns.lineplot(x=testValues,y=regScores))\n",
        "  \n",
        "\n",
        "plotRegScores(encodedDf)"
      ],
      "metadata": {
        "id": "CX8MBESzAPHZ"
      },
      "execution_count": null,
      "outputs": []
    },
    {
      "cell_type": "code",
      "source": [
        "def plotClfScores(dataframe):\n",
        "  testValues = [.10,.20,.30,.40,.50,.60,.70,.80,.90]\n",
        "  clfScores = []\n",
        "  for i in testValues:\n",
        "    y_data = dataframe.stroke\n",
        "    x_data = dataframe.drop(columns = \"stroke\")\n",
        "\n",
        "    scaler = preprocessing.StandardScaler()\n",
        "    x_data = scaler.fit_transform(x_data)\n",
        "\n",
        "    x_train, x_test, y_train, y_test = train_test_split(x_data,y_data,test_size= i, random_state=42)\n",
        "\n",
        "    clf = DecisionTreeClassifier(max_depth =3, random_state = 42)\n",
        "    clf = clf.fit(x_train,y_train)\n",
        "\n",
        "    clfScores.append(clf.score(x_train,y_train))\n",
        "\n",
        "  print(sns.lineplot(x=testValues,y=clfScores))\n",
        "\n",
        "plotClfScores(encodedDf)\n"
      ],
      "metadata": {
        "id": "53WKynrRDTfr"
      },
      "execution_count": null,
      "outputs": []
    },
    {
      "cell_type": "code",
      "source": [
        "sns.countplot(data=df, x=\"stroke\",hue=\"gender\")"
      ],
      "metadata": {
        "id": "MnVvPPRE9kKc"
      },
      "execution_count": null,
      "outputs": []
    },
    {
      "cell_type": "code",
      "source": [
        "sns.pairplot(df,hue=\"stroke\")"
      ],
      "metadata": {
        "id": "aNlnM39cOIVY"
      },
      "execution_count": null,
      "outputs": []
    },
    {
      "cell_type": "code",
      "source": [
        "bins = [0,11,18,30,45,65]\n",
        "labels = [\"0-10\",\"11-17\",\"18-29\",\"30-44\",\"45-64\"]\n",
        "\n",
        "strokeDf['AgeGroup'] = pd.cut(strokeDf['age'], bins=bins, labels=labels, right=False)\n",
        "strokeDf['AgeGroup'] = strokeDf['AgeGroup'].cat.add_categories('65+').fillna('65+')\n",
        "\n",
        "df1['AgeGroup'] = pd.cut(df1[\"age\"],bins=bins,labels=labels, right=False)\n",
        "df1['AgeGroup'] = df1['AgeGroup'].cat.add_categories('65+').fillna('65+')\n",
        "\n",
        "df[\"AgeGroup\"] = pd.cut(df[\"age\"],bins=bins,labels=labels,right=False)\n",
        "df[\"AgeGroup\"] = df[\"AgeGroup\"].cat.add_categories('65+').fillna('65+')\n",
        "\n",
        "sns.barplot(data=strokeDf,x=\"AgeGroup\",y=strokeDf.groupby(\"AgeGroup\")[\"stroke\"].transform(\"count\"))\n",
        "\n"
      ],
      "metadata": {
        "id": "-QVdANyTdVLk"
      },
      "execution_count": null,
      "outputs": []
    },
    {
      "cell_type": "code",
      "source": [
        "sns.scatterplot(data=df1,x=\"avg_glucose_level\",y=\"age\",hue=\"stroke\")\n",
        "sns.kdeplot(data=df1,x=\"avg_glucose_level\",y=\"age\",hue=\"stroke\")\n"
      ],
      "metadata": {
        "id": "sSPX7EEFe7DN"
      },
      "execution_count": null,
      "outputs": []
    },
    {
      "cell_type": "code",
      "source": [
        "sns.countplot(data=df,x=\"AgeGroup\",hue=\"stroke\")"
      ],
      "metadata": {
        "id": "RKQpnh1k0Dqe"
      },
      "execution_count": null,
      "outputs": []
    },
    {
      "cell_type": "code",
      "source": [
        "sns.displot(data=df,x=\"stroke\")\n",
        "df.groupby(\"stroke\")[\"stroke\"].count()"
      ],
      "metadata": {
        "id": "yN85KFUuDnit"
      },
      "execution_count": null,
      "outputs": []
    },
    {
      "cell_type": "code",
      "source": [
        "print(df[\"age\"].describe())\n",
        "sns.displot(data=df,x=\"age\")"
      ],
      "metadata": {
        "id": "XbaBKnkbJ7ii"
      },
      "execution_count": null,
      "outputs": []
    },
    {
      "cell_type": "code",
      "source": [
        "sns.displot(data=df,x='gender')\n",
        "print(df.groupby(\"gender\")[\"gender\"].count())"
      ],
      "metadata": {
        "id": "hy9NtQoQLKKD"
      },
      "execution_count": null,
      "outputs": []
    },
    {
      "cell_type": "code",
      "source": [
        "sns.displot(data=df,x=\"avg_glucose_level\")\n",
        "print(df[\"avg_glucose_level\"].describe())"
      ],
      "metadata": {
        "id": "uUBc7kWENQ8i"
      },
      "execution_count": null,
      "outputs": []
    }
  ]
}