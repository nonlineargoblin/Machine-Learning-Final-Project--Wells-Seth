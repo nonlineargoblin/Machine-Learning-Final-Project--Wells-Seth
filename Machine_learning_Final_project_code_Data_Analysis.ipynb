{
  "nbformat": 4,
  "nbformat_minor": 0,
  "metadata": {
    "colab": {
      "name": "Machine learning Final project code- Data Analysis",
      "provenance": []
    },
    "kernelspec": {
      "name": "python3",
      "display_name": "Python 3"
    },
    "language_info": {
      "name": "python"
    }
  },
  "cells": [
    {
      "cell_type": "code",
      "execution_count": null,
      "metadata": {
        "id": "CO2YfoJ_KxhZ"
      },
      "outputs": [],
      "source": [
        "from google.colab import files\n",
        "import pandas as pd\n",
        "import numpy as np\n",
        "import seaborn as sns\n",
        "from sklearn import preprocessing\n",
        "\n",
        "files.upload()"
      ]
    },
    {
      "cell_type": "code",
      "source": [
        "df = pd.read_csv(\"healthcare-dataset-stroke-data.csv\")\n",
        "sns.set(rc={'figure.figsize':(20,9)})\n",
        "df = df.dropna()\n",
        "df = df.loc[df[\"age\"] > 18]\n",
        "\n",
        "sns.barplot(data=df,y = df.groupby(\"gender\")[\"stroke\"].transform(\"count\"),x = \"gender\")\n",
        "sns.barplot(data=df,y = df.groupby(\"age\")[\"stroke\"].transform(\"count\"),x=\"age\")\n",
        "sns.scatterplot(data=df,x=\"age\",y=\"bmi\",hue=\"stroke\")\n",
        "sns.scatterplot(data=df,x=\"age\",y=\"avg_glucose_level\",hue=\"stroke\")\n",
        "\n",
        "be = preprocessing.LabelBinarizer()\n",
        "le = preprocessing.LabelEncoder()\n",
        "#male is 0 female is 1\n",
        "df[\"gender\"] = be.fit_transform(df[\"gender\"])\n",
        "# 0 is no 1 is yes\n",
        "df[\"ever_married\"] = be.fit_transform(df[\"ever_married\"])\n",
        "#0 is rural 1 is urban\n",
        "df[\"Residence_type\"] = be.fit_transform(df[\"Residence_type\"])\n",
        "# private is 2 govt_job is 0 self-employed is 3 1 is never_worked\n",
        "df[\"work_type\"] = le.fit_transform(df[\"work_type\"])\n",
        "#1 is formerly smoked 2 is never smoked 3 is smokes 4 0 is unknown\n",
        "df[\"smoking_status\"] = le.fit_transform(df[\"smoking_status\"])\n",
        "\n",
        "print(df[\"age\"].describe())\n",
        "\n",
        "\n",
        "\n"
      ],
      "metadata": {
        "id": "dwy81rm1LUXZ"
      },
      "execution_count": null,
      "outputs": []
    },
    {
      "cell_type": "code",
      "source": [
        "sns.scatterplot(data=df,x=\"age\",y=\"avg_glucose_level\",hue=\"stroke\")"
      ],
      "metadata": {
        "id": "aNlnM39cOIVY"
      },
      "execution_count": null,
      "outputs": []
    }
  ]
}